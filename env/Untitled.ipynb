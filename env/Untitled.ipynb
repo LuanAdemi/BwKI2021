{
 "cells": [
  {
   "cell_type": "code",
   "execution_count": 1,
   "metadata": {},
   "outputs": [],
   "source": [
    "from td3 import ReplayBuffer\n",
    "\n",
    "from maumau import MauMauEnv\n",
    "\n",
    "from agents import RandomAgent\n",
    "\n",
    "buff = ReplayBuffer((10, 6, 9), (1, 6, 9), 2)\n",
    "\n",
    "env = MauMauEnv(2, 5)\n",
    "agent = RandomAgent()"
   ]
  },
  {
   "cell_type": "code",
   "execution_count": 2,
   "metadata": {},
   "outputs": [],
   "source": [
    "state, reward, done = env.reset()\n",
    "for t in range(int(1e5)):\n",
    "    actionMask = env.currentPlayer.getActionMask(env.pullStack, env.playStack, binary=False)\n",
    "    action = agent.selectAction(actionMask)\n",
    "    nextState, reward, done = env.step(action)\n",
    "    action = env.cardToTensor(action)\n",
    "    buff.add(env.currentPlayerID, state, action, nextState, reward, done)\n",
    "    state = nextState\n",
    "    if done:\n",
    "        state, reward, done = env.reset()"
   ]
  },
  {
   "cell_type": "code",
   "execution_count": 3,
   "metadata": {},
   "outputs": [],
   "source": [
    "states, actions, nextStates, reward, notDone = buff.sample(12)"
   ]
  },
  {
   "cell_type": "code",
   "execution_count": 22,
   "metadata": {},
   "outputs": [
    {
     "data": {
      "text/plain": [
       "array([ 1., -1.,  1.])"
      ]
     },
     "execution_count": 22,
     "metadata": {},
     "output_type": "execute_result"
    }
   ],
   "source": [
    "buff.reward[buff.gameIDs[[42,43, 44]].astype(int)].flatten()[buff.playerIDs[[42, 43, 44]].astype(int).flatten()]"
   ]
  },
  {
   "cell_type": "code",
   "execution_count": 20,
   "metadata": {},
   "outputs": [
    {
     "data": {
      "text/plain": [
       "array([0, 1, 0])"
      ]
     },
     "execution_count": 20,
     "metadata": {},
     "output_type": "execute_result"
    }
   ],
   "source": [
    "buff.playerIDs[[42, 43, 44]].astype(int).flatten()"
   ]
  },
  {
   "cell_type": "code",
   "execution_count": null,
   "metadata": {},
   "outputs": [],
   "source": []
  }
 ],
 "metadata": {
  "kernelspec": {
   "display_name": "Python 3",
   "language": "python",
   "name": "python3"
  },
  "language_info": {
   "codemirror_mode": {
    "name": "ipython",
    "version": 3
   },
   "file_extension": ".py",
   "mimetype": "text/x-python",
   "name": "python",
   "nbconvert_exporter": "python",
   "pygments_lexer": "ipython3",
   "version": "3.8.8"
  }
 },
 "nbformat": 4,
 "nbformat_minor": 4
}
